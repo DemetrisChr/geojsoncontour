{
 "cells": [
  {
   "cell_type": "code",
   "execution_count": 1,
   "metadata": {
    "collapsed": false,
    "deletable": true,
    "editable": true
   },
   "outputs": [],
   "source": [
    "import xarray as xr\n",
    "import numpy as np\n",
    "import matplotlib.pyplot as plt\n",
    "import geojsoncontour as gjc"
   ]
  },
  {
   "cell_type": "code",
   "execution_count": 2,
   "metadata": {
    "collapsed": true,
    "deletable": true,
    "editable": true
   },
   "outputs": [],
   "source": [
    "da = xr.open_dataset('../tests/sresa1b_ncar_ccsm3-example.nc').tas"
   ]
  },
  {
   "cell_type": "code",
   "execution_count": 3,
   "metadata": {
    "collapsed": true,
    "deletable": true,
    "editable": true
   },
   "outputs": [],
   "source": [
    "def _matplot_preprocessing(da, *args, **kwargs):\n",
    "    if 'time' in da.dims:\n",
    "        da = da.isel(time=0)\n",
    "    assert da.dims == ('lat', 'lon'), \"Not only lat,lon dimensions\"\n",
    "    lon = getattr(da, 'lon').data - 180\n",
    "    lat = getattr(da, 'lat').data\n",
    "    X, Y = np.meshgrid(lon,lat)\n",
    "    unit = getattr(da, 'units')\n",
    "    name = getattr(da, 'name')\n",
    "    Z = da.data\n",
    "    return dict(X=X,Y=Y,Z=Z,unit=unit,name=name)"
   ]
  },
  {
   "cell_type": "code",
   "execution_count": 4,
   "metadata": {
    "collapsed": false,
    "deletable": true,
    "editable": true
   },
   "outputs": [],
   "source": [
    "def _matplot(X, Y, Z, unit, name, contourtype='contourf', cmap='viridis', levels=30, vmin=None, vmax=None):\n",
    "    if not vmin:\n",
    "        vmin = np.nanmin(Z)\n",
    "    if not vmax:\n",
    "        vmax = np.nanmax(Z)\n",
    "    _fig = plt.figure()\n",
    "    _ax = _fig.add_subplot(111)\n",
    "    contourtype = getattr(_ax, contourtype)\n",
    "    cmap = getattr(plt.cm, cmap)\n",
    "    levels = np.linspace(start=vmin, stop=vmax, num=levels)\n",
    "    c = contourtype(X, Y, Z, levels=levels, cmap=cmap)\n",
    "    setattr(c,'da_name', name)\n",
    "    setattr(c,'da_unit', unit)\n",
    "    return c"
   ]
  },
  {
   "cell_type": "code",
   "execution_count": 5,
   "metadata": {
    "collapsed": false,
    "deletable": true,
    "editable": true
   },
   "outputs": [],
   "source": [
    "temp = _matplot(**_matplot_preprocessing(da))"
   ]
  },
  {
   "cell_type": "code",
   "execution_count": 6,
   "metadata": {
    "collapsed": false,
    "deletable": true,
    "editable": true
   },
   "outputs": [],
   "source": [
    "gjc.to_geojson(contour=temp, strdump=False, geojson_filepath='out.geojson', multipolys=False)"
   ]
  },
  {
   "cell_type": "code",
   "execution_count": 10,
   "metadata": {
    "collapsed": false,
    "deletable": true,
    "editable": true
   },
   "outputs": [
    {
     "data": {
      "text/plain": [
       "array([   0.     ,    1.40625,    2.8125 ,    4.21875,    5.625  ,\n",
       "          7.03125,    8.4375 ,    9.84375,   11.25   ,   12.65625,\n",
       "         14.0625 ,   15.46875,   16.875  ,   18.28125,   19.6875 ,\n",
       "         21.09375,   22.5    ,   23.90625,   25.3125 ,   26.71875,\n",
       "         28.125  ,   29.53125,   30.9375 ,   32.34375,   33.75   ,\n",
       "         35.15625,   36.5625 ,   37.96875,   39.375  ,   40.78125,\n",
       "         42.1875 ,   43.59375,   45.     ,   46.40625,   47.8125 ,\n",
       "         49.21875,   50.625  ,   52.03125,   53.4375 ,   54.84375,\n",
       "         56.25   ,   57.65625,   59.0625 ,   60.46875,   61.875  ,\n",
       "         63.28125,   64.6875 ,   66.09375,   67.5    ,   68.90625,\n",
       "         70.3125 ,   71.71875,   73.125  ,   74.53125,   75.9375 ,\n",
       "         77.34375,   78.75   ,   80.15625,   81.5625 ,   82.96875,\n",
       "         84.375  ,   85.78125,   87.1875 ,   88.59375,   90.     ,\n",
       "         91.40625,   92.8125 ,   94.21875,   95.625  ,   97.03125,\n",
       "         98.4375 ,   99.84375,  101.25   ,  102.65625,  104.0625 ,\n",
       "        105.46875,  106.875  ,  108.28125,  109.6875 ,  111.09375,\n",
       "        112.5    ,  113.90625,  115.3125 ,  116.71875,  118.125  ,\n",
       "        119.53125,  120.9375 ,  122.34375,  123.75   ,  125.15625,\n",
       "        126.5625 ,  127.96875,  129.375  ,  130.78125,  132.1875 ,\n",
       "        133.59375,  135.     ,  136.40625,  137.8125 ,  139.21875,\n",
       "        140.625  ,  142.03125,  143.4375 ,  144.84375,  146.25   ,\n",
       "        147.65625,  149.0625 ,  150.46875,  151.875  ,  153.28125,\n",
       "        154.6875 ,  156.09375,  157.5    ,  158.90625,  160.3125 ,\n",
       "        161.71875,  163.125  ,  164.53125,  165.9375 ,  167.34375,\n",
       "        168.75   ,  170.15625,  171.5625 ,  172.96875,  174.375  ,\n",
       "        175.78125,  177.1875 ,  178.59375, -180.     , -178.59375,\n",
       "       -177.1875 , -175.78125, -174.375  , -172.96875, -171.5625 ,\n",
       "       -170.15625, -168.75   , -167.34375, -165.9375 , -164.53125,\n",
       "       -163.125  , -161.71875, -160.3125 , -158.90625, -157.5    ,\n",
       "       -156.09375, -154.6875 , -153.28125, -151.875  , -150.46875,\n",
       "       -149.0625 , -147.65625, -146.25   , -144.84375, -143.4375 ,\n",
       "       -142.03125, -140.625  , -139.21875, -137.8125 , -136.40625,\n",
       "       -135.     , -133.59375, -132.1875 , -130.78125, -129.375  ,\n",
       "       -127.96875, -126.5625 , -125.15625, -123.75   , -122.34375,\n",
       "       -120.9375 , -119.53125, -118.125  , -116.71875, -115.3125 ,\n",
       "       -113.90625, -112.5    , -111.09375, -109.6875 , -108.28125,\n",
       "       -106.875  , -105.46875, -104.0625 , -102.65625, -101.25   ,\n",
       "        -99.84375,  -98.4375 ,  -97.03125,  -95.625  ,  -94.21875,\n",
       "        -92.8125 ,  -91.40625,  -90.     ,  -88.59375,  -87.1875 ,\n",
       "        -85.78125,  -84.375  ,  -82.96875,  -81.5625 ,  -80.15625,\n",
       "        -78.75   ,  -77.34375,  -75.9375 ,  -74.53125,  -73.125  ,\n",
       "        -71.71875,  -70.3125 ,  -68.90625,  -67.5    ,  -66.09375,\n",
       "        -64.6875 ,  -63.28125,  -61.875  ,  -60.46875,  -59.0625 ,\n",
       "        -57.65625,  -56.25   ,  -54.84375,  -53.4375 ,  -52.03125,\n",
       "        -50.625  ,  -49.21875,  -47.8125 ,  -46.40625,  -45.     ,\n",
       "        -43.59375,  -42.1875 ,  -40.78125,  -39.375  ,  -37.96875,\n",
       "        -36.5625 ,  -35.15625,  -33.75   ,  -32.34375,  -30.9375 ,\n",
       "        -29.53125,  -28.125  ,  -26.71875,  -25.3125 ,  -23.90625,\n",
       "        -22.5    ,  -21.09375,  -19.6875 ,  -18.28125,  -16.875  ,\n",
       "        -15.46875,  -14.0625 ,  -12.65625,  -11.25   ,   -9.84375,\n",
       "         -8.4375 ,   -7.03125,   -5.625  ,   -4.21875,   -2.8125 ,\n",
       "         -1.40625], dtype=float32)"
      ]
     },
     "execution_count": 10,
     "metadata": {},
     "output_type": "execute_result"
    }
   ],
   "source": [
    "np.where(da.lon.data>=180, da.lon.data,da.lon.data)"
   ]
  },
  {
   "cell_type": "code",
   "execution_count": null,
   "metadata": {
    "collapsed": true
   },
   "outputs": [],
   "source": []
  }
 ],
 "metadata": {
  "kernelspec": {
   "display_name": "Python 3",
   "language": "python",
   "name": "python3"
  },
  "language_info": {
   "codemirror_mode": {
    "name": "ipython",
    "version": 3
   },
   "file_extension": ".py",
   "mimetype": "text/x-python",
   "name": "python",
   "nbconvert_exporter": "python",
   "pygments_lexer": "ipython3",
   "version": "3.6.0"
  }
 },
 "nbformat": 4,
 "nbformat_minor": 2
}
