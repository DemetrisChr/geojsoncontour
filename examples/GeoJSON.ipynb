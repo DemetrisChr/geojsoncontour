{
 "cells": [
  {
   "cell_type": "code",
   "execution_count": null,
   "metadata": {
    "collapsed": true,
    "deletable": true,
    "editable": true
   },
   "outputs": [],
   "source": [
    "import matplotlib"
   ]
  },
  {
   "cell_type": "code",
   "execution_count": null,
   "metadata": {
    "collapsed": false,
    "deletable": true,
    "editable": true
   },
   "outputs": [],
   "source": [
    "import matplotlib.pyplot as plt\n",
    "import xarray as xr\n",
    "import numpy as np\n",
    "import geojsoncontour\n",
    "import os\n",
    "%matplotlib inline"
   ]
  },
  {
   "cell_type": "code",
   "execution_count": null,
   "metadata": {
    "collapsed": false,
    "deletable": true,
    "editable": true
   },
   "outputs": [],
   "source": [
    "def setup(filename, var):\n",
    "    data = xr.open_dataset(filename)\n",
    "    lon_range = data.variables['lon'].data\n",
    "    lat_range = data.variables['lat'].data\n",
    "    lon_range, lat_range\n",
    "    X, Y = np.meshgrid(lon_range,lat_range)\n",
    "    mini, maxi = np.nanmin(data.variables[var].data), np.nanmax(data.variables[var].data)\n",
    "    min2, max98 = np.nanpercentile(data.variables[var].data,2), np.nanpercentile(data.variables[var].data, 98)\n",
    "    unit = data.variables[var].attrs['units']\n",
    "    print(\"Min {}; Max {}\".format(mini,maxi))\n",
    "    print(\"Min {}; Max {}\".format(min2,max98))\n",
    "    Z = getattr(data, var)\n",
    "    return X,Y,Z,unit, var\n",
    "\n",
    "X,Y,Z,unit,var = setup('../tests/sresa1b_ncar_ccsm3-example.nc', 'tas')"
   ]
  },
  {
   "cell_type": "code",
   "execution_count": null,
   "metadata": {
    "collapsed": false,
    "deletable": true,
    "editable": true
   },
   "outputs": [],
   "source": [
    "figure = plt.figure()\n",
    "ax = figure.add_subplot(111)\n",
    "for t in range(len(Z.time)):\n",
    "    third = Z.isel(time=t)\n",
    "    if len(third.dims) == 3:\n",
    "        last_pos = 50 # len(getattr(third, third.dims[0]))-1\n",
    "        third = third[last_pos,]\n",
    "    levels = np.linspace(start=np.nanmin(third),stop=np.nanmax(third), num=30)\n",
    "    print(\"Min {}; Max {}; Time {}\".format(levels[0],levels[-1],t))\n",
    "    contourf = ax.contourf(X, Y, third, levels=levels, cmap=plt.cm.viridis)"
   ]
  },
  {
   "cell_type": "markdown",
   "metadata": {
    "deletable": true,
    "editable": true
   },
   "source": [
    "[Mapshaper](http://www.mapshaper.org)"
   ]
  },
  {
   "cell_type": "code",
   "execution_count": null,
   "metadata": {
    "collapsed": false,
    "deletable": true,
    "editable": true
   },
   "outputs": [],
   "source": [
    "# Convert matplotlib contour to geojson\n",
    "k = geojsoncontour.to_geojson(\n",
    "    contour=contourf, multipolys=False,\n",
    "    geojson_filepath='out.geojson',\n",
    "    contour_levels=levels,\n",
    "#     min_angle_deg=5.0,\n",
    "    ndigits=3,\n",
    "    unit='m')"
   ]
  },
  {
   "cell_type": "code",
   "execution_count": null,
   "metadata": {
    "collapsed": false,
    "deletable": true,
    "editable": true
   },
   "outputs": [],
   "source": [
    "type(k)"
   ]
  },
  {
   "cell_type": "code",
   "execution_count": null,
   "metadata": {
    "collapsed": false,
    "deletable": true,
    "editable": true
   },
   "outputs": [],
   "source": [
    "k"
   ]
  },
  {
   "cell_type": "code",
   "execution_count": null,
   "metadata": {
    "collapsed": true,
    "deletable": true,
    "editable": true
   },
   "outputs": [],
   "source": []
  }
 ],
 "metadata": {
  "kernelspec": {
   "display_name": "Python 3",
   "language": "python",
   "name": "python3"
  },
  "language_info": {
   "codemirror_mode": {
    "name": "ipython",
    "version": 3
   },
   "file_extension": ".py",
   "mimetype": "text/x-python",
   "name": "python",
   "nbconvert_exporter": "python",
   "pygments_lexer": "ipython3",
   "version": "3.6.0"
  }
 },
 "nbformat": 4,
 "nbformat_minor": 0
}
